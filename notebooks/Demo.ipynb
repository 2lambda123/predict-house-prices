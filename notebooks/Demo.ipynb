{
 "cells": [
  {
   "cell_type": "markdown",
   "metadata": {},
   "source": [
    "# ballet-predict-house-prices demo"
   ]
  },
  {
   "cell_type": "markdown",
   "metadata": {},
   "source": [
    "If you are on this page, you are probably thinking about contributing to a Ballet feature engineering collaboration. Welcome!"
   ]
  },
  {
   "cell_type": "markdown",
   "metadata": {},
   "source": [
    "The steps you follow in this demo are taken from the [Ballet Contributor Guide](https://hdi-project.github.io/ballet/contributor_guide.html), make sure to consult it for more information."
   ]
  },
  {
   "cell_type": "markdown",
   "metadata": {},
   "source": [
    "If you have questions about feature engineering, see the [Feature Engineering Guide](https://hdi-project.github.io/ballet/feature_engineering_guide.html)."
   ]
  },
  {
   "cell_type": "markdown",
   "metadata": {},
   "source": [
    "When you are ready to submit your feature, look for the \"<span class=\"fa fa-share\" style=\"color:#FCDD35;\"></span> Submit\" button in the right of your notebook toolbar. First, select the code cell that contains the feature you have written. Then press the submit button, confirming that the feature code shown is what you want to submit. After submission, you will be shown a URL that takes you to the corresponding Pull Request that has been created."
   ]
  },
  {
   "cell_type": "code",
   "execution_count": null,
   "metadata": {},
   "outputs": [],
   "source": [
    "# some preliminaries...\n",
    "import logging\n",
    "from ballet.util.log import enable as enable_logger\n",
    "enable_logger(logging.getLogger('ballet_predict_house_prices'))\n",
    "import pandas as pd\n",
    "pd.set_option('display.max_columns', None)"
   ]
  },
  {
   "cell_type": "markdown",
   "metadata": {},
   "source": [
    "## Explore the data"
   ]
  },
  {
   "cell_type": "markdown",
   "metadata": {},
   "source": [
    "Access the development data through the `load_data` function. The resulting variables are pandas DataFrames.\n",
    "\n",
    "There is also a [detailed data dictionary](https://s3.amazonaws.com/mit-dai-ballet/ames/DataDocumentation.txt) that you might like to consult."
   ]
  },
  {
   "cell_type": "code",
   "execution_count": null,
   "metadata": {},
   "outputs": [],
   "source": [
    "from ballet_predict_house_prices.load_data import load_data\n",
    "X_df, y_df = load_data()"
   ]
  },
  {
   "cell_type": "code",
   "execution_count": null,
   "metadata": {},
   "outputs": [],
   "source": [
    "X_df.head()"
   ]
  },
  {
   "cell_type": "code",
   "execution_count": null,
   "metadata": {},
   "outputs": [],
   "source": [
    "y_df.head()"
   ]
  },
  {
   "cell_type": "markdown",
   "metadata": {},
   "source": [
    "## Explore existing features"
   ]
  },
  {
   "cell_type": "code",
   "execution_count": null,
   "metadata": {},
   "outputs": [],
   "source": [
    "from ballet_predict_house_prices.features import build\n",
    "result = build(X_df, y_df)\n",
    "X_train, y_train = result['X'], result['y']"
   ]
  },
  {
   "cell_type": "code",
   "execution_count": null,
   "metadata": {},
   "outputs": [],
   "source": [
    "print('Number of existing features: ', len(result['features']))\n",
    "print('Number of columns in feature matrix: ', X_train.shape[1])"
   ]
  },
  {
   "cell_type": "markdown",
   "metadata": {},
   "source": [
    "## Write a new feature"
   ]
  },
  {
   "cell_type": "markdown",
   "metadata": {},
   "source": [
    "Now it's time to write your own feature! Or, if you'd like to experience the process of submitting your feature directly, you can see pre-existing examples in `/examples`"
   ]
  },
  {
   "cell_type": "markdown",
   "metadata": {},
   "source": [
    "🚧 Be careful -- **the content of the cell must be a standalone Python module**, as it will be placed in an empty Python source file. This means that any imports or helper functions must be defined (or \n",
    "re-defined) within this cell, otherwise your submitted feature will fail to validate due to missing imports/helpers. 🚧"
   ]
  },
  {
   "cell_type": "code",
   "execution_count": null,
   "metadata": {},
   "outputs": [],
   "source": [
    "from ballet import Feature\n",
    "\n",
    "input = None\n",
    "transformer = None\n",
    "name = None\n",
    "feature = Feature(input=input, transformer=transformer, name=name)"
   ]
  },
  {
   "cell_type": "markdown",
   "metadata": {},
   "source": [
    "### Test your feature"
   ]
  },
  {
   "cell_type": "markdown",
   "metadata": {},
   "source": [
    "You probably want to make sure that your feature does not have bugs before you submit it to the upstream project. This command will check that your feature conforms to the feature API. (Assumes you have assigned your feature to a variable `feature`.)"
   ]
  },
  {
   "cell_type": "code",
   "execution_count": null,
   "metadata": {},
   "outputs": [],
   "source": [
    "from ballet.validation.feature_api.validator import validate_feature_api\n",
    "validate_feature_api(feature, X_df, y_df)"
   ]
  },
  {
   "cell_type": "markdown",
   "metadata": {},
   "source": [
    "For now, you can evaluate the ML performance of your feature as follows. (Assumes you have assigned your feature to a variable `feature`.)"
   ]
  },
  {
   "cell_type": "code",
   "execution_count": null,
   "metadata": {},
   "outputs": [],
   "source": [
    "import ballet_predict_house_prices\n",
    "import ballet_predict_house_prices.features as features\n",
    "from ballet.project import Project\n",
    "from ballet.validation.main import _load_class\n",
    "\n",
    "project = Project(ballet_predict_house_prices)\n",
    "out = features.build(X_df, y_df)\n",
    "X_df, y, features = out['X_df'], out['y'], out['features']\n",
    "Accepter = _load_class(project, 'validation.feature_accepter')\n",
    "accepter = Accepter(X_df, y, features, feature)\n",
    "accepter.judge()"
   ]
  },
  {
   "cell_type": "code",
   "execution_count": null,
   "metadata": {},
   "outputs": [],
   "source": []
  }
 ],
 "metadata": {
  "kernelspec": {
   "display_name": "Python 3",
   "language": "python",
   "name": "python3"
  },
  "language_info": {
   "codemirror_mode": {
    "name": "ipython",
    "version": 3
   },
   "file_extension": ".py",
   "mimetype": "text/x-python",
   "name": "python",
   "nbconvert_exporter": "python",
   "pygments_lexer": "ipython3",
   "version": "3.7.5"
  }
 },
 "nbformat": 4,
 "nbformat_minor": 4
}
